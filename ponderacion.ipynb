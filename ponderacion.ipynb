{
 "cells": [
  {
   "cell_type": "code",
   "execution_count": null,
   "id": "850f1df7",
   "metadata": {},
   "outputs": [],
   "source": [
    "import pandas as pd"
   ]
  },
  {
   "cell_type": "code",
   "execution_count": null,
   "id": "8a4a2392",
   "metadata": {},
   "outputs": [],
   "source": [
    "falta poner esto bien como esta en el notebook de web scraping"
   ]
  },
  {
   "cell_type": "code",
   "execution_count": null,
   "id": "45305a33",
   "metadata": {},
   "outputs": [],
   "source": [
    "dflimpia = pd.DataFrame(data=set(lista_limpia), columns=['Ingrediente'])\n",
    "ponderaciones = []\n",
    "for ingrediente in dflimpia.Ingrediente:\n",
    "    ponderaciones.append(lista_limpia.count(ingrediente) / len(lista_limpia) * 100)\n",
    "dflimpia['Ponderación'] = ponderaciones\n",
    "dfsorted = dflimpia.sort_values(by=['Ponderación'], ascending=False)\n",
    "dfsorted.head()"
   ]
  },
  {
   "cell_type": "code",
   "execution_count": null,
   "id": "36d7f819",
   "metadata": {},
   "outputs": [],
   "source": [
    "dfsorted.to_csv('ingredientes.csv', encoding ='utf-8-sig')"
   ]
  },
  {
   "cell_type": "code",
   "execution_count": null,
   "id": "6046e2e6",
   "metadata": {},
   "outputs": [],
   "source": [
    "misingredientes = ['salmón', 'aguacate', 'sal']\n",
    "recetas = []\n",
    "for i in range(len(df)):\n",
    "    cuenta = 0\n",
    "    for miingrediente in misingredientes:\n",
    "        for ingrediente in df.loc[i, 'Ingredientes']:\n",
    "            if miingrediente in ingrediente:\n",
    "                cuenta +=1 \n",
    "    if cuenta == len(misingredientes):\n",
    "        recetas.append(df.loc[i, ['Nombre de la receta', 'Ingredientes']])\n",
    "\n",
    "dfencontradas = pd.DataFrame(data=recetas, columns=['Nombre de la receta', 'Ingredientes'])\n",
    "dfencontradas.head()\n",
    "dfencontradas.to_csv('encontradas.csv', encoding ='utf-8-sig')"
   ]
  },
  {
   "cell_type": "code",
   "execution_count": null,
   "id": "9e07a923",
   "metadata": {},
   "outputs": [],
   "source": [
    "dfencontradas"
   ]
  },
  {
   "cell_type": "code",
   "execution_count": null,
   "id": "6f79a096",
   "metadata": {},
   "outputs": [],
   "source": []
  }
 ],
 "metadata": {
  "kernelspec": {
   "display_name": "Python 3",
   "language": "python",
   "name": "python3"
  },
  "language_info": {
   "codemirror_mode": {
    "name": "ipython",
    "version": 3
   },
   "file_extension": ".py",
   "mimetype": "text/x-python",
   "name": "python",
   "nbconvert_exporter": "python",
   "pygments_lexer": "ipython3",
   "version": "3.9.1"
  }
 },
 "nbformat": 4,
 "nbformat_minor": 5
}
